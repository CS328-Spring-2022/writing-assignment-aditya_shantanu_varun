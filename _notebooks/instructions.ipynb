{
 "cells": [
  {
   "cell_type": "markdown",
   "metadata": {},
   "source": [
    "# Writing Assignment \n",
    "## CS328 2022\n",
    "\n",
    "\n",
    "\n",
    "  \n",
    "\n"
   ]
  },
  {
   "cell_type": "markdown",
   "metadata": {},
   "source": [
    "### Contributing\n",
    "- For the writing-assignment, the changes need to be made in `_notebooks/index.ipynb`. \n",
    "- Other notebooks will not be evaluated.\n",
    "- Students are free to create and edit new notebooks to try and test features on the HTML outputs."
   ]
  },
  {
   "cell_type": "markdown",
   "metadata": {},
   "source": [
    "### Building HTML output on local system\n",
    "1. Install the python dependencies with `pip install -r requirements.txt`.\n",
    "2. Convert all notebooks in `_notebooks` folder to HTML using `jupyter nbconvert _notebooks/*.ipynb --to html --output-dir=_html`.\n",
    "3. The output HTML files would be stored in folder `_html`."
   ]
  },
  {
   "cell_type": "markdown",
   "metadata": {},
   "source": [
    "### Hosting on [Netlify](https://www.netlify.com/)\n",
    "- **The repository need to be kept private**.\n",
    "- As GitHub pages requires pro account for hosting private repositories, the websites need to be hosted on Netlify.\n",
    "- On every `push` to the repository, the HTML output is generated and pushed to the `gh-pages` branch of the repository via Github actions.\n",
    "- Deploy the github repository on Netlify following this [guide](https://www.netlify.com/blog/2016/09/29/a-step-by-step-guide-deploying-on-netlify/).\n",
    "- Make sure to choose deploy branch as `gh-pages` and not `main` branch.\n",
    "- Give an appropriate sitename in the site settings.\n",
    "- Finally the website link would look like `https://<site_name>.netlify.app`\n",
    "\n",
    "Once this is done, all changes to github repository should reflect on the netlify website within few minutes after push."
   ]
  },
  {
   "cell_type": "markdown",
   "metadata": {},
   "source": [
    "### Interactive Notebooks\n",
    "- **Bonus marks for making the notebooks interactive**\n",
    "- [Plotly](https://plotly.com/python/) is suggested for adding interactive visualizations.\n",
    "- Plotly outputs are not rendered in HTML by default. The figures needs to stored as HTML in the notebooks. For this replace `fig.show()` with `HTML(fig.to_html(include_plotlyjs='cdn'))`. Refer [Plotly HTML rendering](https://yadav-sachin.github.io/blog/plotly/jupyter/2022/02/25/try-plotly-in-fastpages.html).\n",
    "- Matplotlib animations or Plotly animations are also suggested for making notebooks interactive.\n",
    "- Maplotlib animations are not rendered in HTML by default. It needs to be enabled by at the beginning of the notebook.\n",
    "```python\n",
    "from matplotlib import rc\n",
    "rc('animation', html='jshtml')\n",
    "```"
   ]
  },
  {
   "cell_type": "markdown",
   "metadata": {},
   "source": [
    "### What needs to be submitted?\n",
    "1. Link to the Netlify website.\n",
    "2. `index.html` file"
   ]
  }
 ],
 "metadata": {
  "language_info": {
   "name": "python"
  },
  "orig_nbformat": 4
 },
 "nbformat": 4,
 "nbformat_minor": 2
}
