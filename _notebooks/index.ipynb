{
 "cells": [
  {
   "cell_type": "markdown",
   "metadata": {},
   "source": [
    "<h1><center>Topic Name</center></h1>\n",
    "<h4><center>Author 1</a>, IIT Gandhinagar, <a style=\"text-decoration:none\" href=\"mailto:<mail_id>@iitgn.ac.in\">mail_id@iitgn.ac.in</a></h4>\n",
    "<br><br>\n",
    "<h4><center>Author 2</a>, IIT Gandhinagar, <a style=\"text-decoration:none\" href=\"mailto:<mail_id>@iitgn.ac.in\">mail_id@iitgn.ac.in</a></h4>\n",
    "<br><br>\n",
    "<h4><center>Author 3</a>, IIT Gandhinagar, <a style=\"text-decoration:none\" href=\"mailto:<mail_id>@iitgn.ac.in\">mail_id@iitgn.ac.in</a></h4>"
   ]
  },
  {
   "cell_type": "markdown",
   "metadata": {},
   "source": [
    "[![Repo](https://img.shields.io/badge/GitHub-<repo_name>-brightgreen)](https://github.com/<repo_user>/<repo_name>)"
   ]
  }
 ],
 "metadata": {
  "language_info": {
   "name": "python"
  },
  "orig_nbformat": 4
 },
 "nbformat": 4,
 "nbformat_minor": 2
}
