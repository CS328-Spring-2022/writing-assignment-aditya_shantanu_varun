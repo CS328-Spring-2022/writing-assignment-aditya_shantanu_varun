{
 "cells": [
  {
   "cell_type": "markdown",
   "metadata": {},
   "source": [
    "<h1><center>Quick Demo</center></h1>\n",
    "<h4><center><a href=\"https://yadav-sachin.github.io/\">Sachin Yadav</a>, IIT Gandhinagar, <a style=\"text-decoration:none\" href=\"mailto:sachin.yadav@iitgn.ac.in\">sachin.yadav@iitgn.ac.in</h4>"
   ]
  },
  {
   "cell_type": "markdown",
   "metadata": {},
   "source": [
    "[![Repo](https://img.shields.io/badge/Github-Writing%20Assignment-brightgreen)](https://github.com/cs328-2022/writing-assignment)"
   ]
  },
  {
   "cell_type": "markdown",
   "metadata": {},
   "source": [
    "## IRIS dataset\n"
   ]
  },
  {
   "cell_type": "markdown",
   "metadata": {},
   "source": []
  }
 ],
 "metadata": {
  "language_info": {
   "name": "python"
  },
  "orig_nbformat": 4
 },
 "nbformat": 4,
 "nbformat_minor": 2
}
